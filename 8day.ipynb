{
 "cells": [
  {
   "cell_type": "code",
   "execution_count": 1,
   "metadata": {},
   "outputs": [],
   "source": [
    "import matplotlib.pyplot as plt"
   ]
  },
  {
   "cell_type": "code",
   "execution_count": 2,
   "metadata": {},
   "outputs": [],
   "source": [
    "x_data = [[173], [171], [162], [187], [157], [169], [177], [159], [182]] #키(cm) -> 학습데이터: x\n",
    "y_data = [[270], [275], [245], [280], [230], [265], [270], [250], [275]] #발 크기(mm) -> 레이블(정답): y"
   ]
  },
  {
   "cell_type": "code",
   "execution_count": 3,
   "metadata": {},
   "outputs": [
    {
     "data": {
      "image/png": "[encoded data removed]",
      "text/plain": [
       "<Figure size 432x288 with 1 Axes>"
      ]
     },
     "metadata": {
      "needs_background": "light"
     },
     "output_type": "display_data"
    }
   ],
   "source": [
    "plt.scatter(x_data, y_data)\n",
    "plt.xlabel(\"height(cm)\")\n",
    "plt.ylabel(\"feet(mm)\")\n",
    "plt.show()"
   ]
  },
  {
   "cell_type": "code",
   "execution_count": 4,
   "metadata": {},
   "outputs": [],
   "source": [
    "from pop.AI import Linear_Regression"
   ]
  },
  {
   "cell_type": "code",
   "execution_count": 15,
   "metadata": {},
   "outputs": [],
   "source": [
    "linear = Linear_Regression(ckpt_name=\"height_feet\")"
   ]
  },
  {
   "cell_type": "code",
   "execution_count": 16,
   "metadata": {},
   "outputs": [],
   "source": [
    "linear.X_data = x_data\n",
    "linear.Y_data = y_data"
   ]
  },
  {
   "cell_type": "code",
   "execution_count": 20,
   "metadata": {},
   "outputs": [
    {
     "name": "stdout",
     "output_type": "stream",
     "text": [
      "1550 step loss: 49.70648956298828\n",
      "1600 step loss: 49.700740814208984\n",
      "1650 step loss: 49.69517517089844\n",
      "1700 step loss: 49.689430236816406\n",
      "1750 step loss: 49.68377685546875\n",
      "1800 step loss: 49.67793655395508\n",
      "1850 step loss: 49.67234420776367\n",
      "1900 step loss: 49.666542053222656\n",
      "1950 step loss: 49.660823822021484\n",
      "2000 step loss: 49.655094146728516\n",
      "Training is done.\n",
      "Time spent: 2.4 s\n",
      "Training speed: 207.2 step/s\n"
     ]
    }
   ],
   "source": [
    "linear.train(times=500, print_every=50)"
   ]
  },
  {
   "cell_type": "code",
   "execution_count": 21,
   "metadata": {},
   "outputs": [],
   "source": [
    "new_x = [[159], [172], [201], [148]]"
   ]
  },
  {
   "cell_type": "code",
   "execution_count": 22,
   "metadata": {},
   "outputs": [],
   "source": [
    "linear_new = Linear_Regression(restore=True, ckpt_name=\"height_feet\")"
   ]
  },
  {
   "cell_type": "code",
   "execution_count": 27,
   "metadata": {},
   "outputs": [
    {
     "name": "stdout",
     "output_type": "stream",
     "text": [
      "2100 step loss: 66.94511413574219\n",
      "2200 step loss: 66.924072265625\n",
      "2300 step loss: 66.91188049316406\n",
      "2400 step loss: 66.8992919921875\n",
      "2500 step loss: 66.88639068603516\n",
      "Training is done.\n",
      "Time spent: 3.3 s\n",
      "Training speed: 152.2 step/s\n"
     ]
    }
   ],
   "source": [
    "new_y = [[230], [255], [280], [200]]\n",
    "linear_new.X_data = new_x\n",
    "linear_new.Y_data = new_y\n",
    "linear_new.train(500,100)"
   ]
  },
  {
   "cell_type": "code",
   "execution_count": 24,
   "metadata": {},
   "outputs": [
    {
     "name": "stdout",
     "output_type": "stream",
     "text": [
      "[[244.33176]\n",
      " [264.0488 ]\n",
      " [308.033  ]\n",
      " [227.6481 ]]\n"
     ]
    }
   ],
   "source": [
    "prediction_y = linear_new.run(new_x)\n",
    "print(prediction_y)"
   ]
  },
  {
   "cell_type": "code",
   "execution_count": 26,
   "metadata": {},
   "outputs": [
    {
     "data": {
      "image/png": "[encoded data removed]",
      "text/plain": [
       "<Figure size 432x288 with 1 Axes>"
      ]
     },
     "metadata": {
      "needs_background": "light"
     },
     "output_type": "display_data"
    }
   ],
   "source": [
    "plt.xlabel(\"height(cm)\")\n",
    "plt.ylabel(\"feet(mm)\")\n",
    "plt.scatter(x_data, y_data)\n",
    "plt.scatter(new_x, prediction_y)\n",
    "plt.plot(new_x, prediction_y, color='#f0f000', linestyle=\"-.\", marker='o')\n",
    "plt.show()"
   ]
  },
  {
   "cell_type": "code",
   "execution_count": null,
   "metadata": {},
   "outputs": [],
   "source": []
  }
 ],
 "metadata": {
  "kernelspec": {
   "display_name": "Python 3",
   "language": "python",
   "name": "python3"
  },
  "language_info": {
   "codemirror_mode": {
    "name": "ipython",
    "version": 3
   },
   "file_extension": ".py",
   "mimetype": "text/x-python",
   "name": "python",
   "nbconvert_exporter": "python",
   "pygments_lexer": "ipython3",
   "version": "3.6.9"
  },
  "orig_nbformat": 4
 },
 "nbformat": 4,
 "nbformat_minor": 2
}
